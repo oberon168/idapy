{
 "cells": [
  {
   "cell_type": "markdown",
   "id": "a2232b95-1c88-4ec7-adc5-2e0fd1cf220d",
   "metadata": {},
   "source": [
    "> Run shell command with !\n",
    ">\n",
    "> - to install library\n",
    "\n",
    "    !pip install matplotlib\n"
   ]
  },
  {
   "cell_type": "code",
   "execution_count": null,
   "id": "f34d7409-a03a-4ba0-9099-51079984e831",
   "metadata": {},
   "outputs": [],
   "source": [
    "!jupyter --path"
   ]
  }
 ],
 "metadata": {
  "kernelspec": {
   "display_name": "Python 3 (ipykernel)",
   "language": "python",
   "name": "python3"
  },
  "language_info": {
   "codemirror_mode": {
    "name": "ipython",
    "version": 3
   },
   "file_extension": ".py",
   "mimetype": "text/x-python",
   "name": "python",
   "nbconvert_exporter": "python",
   "pygments_lexer": "ipython3",
   "version": "3.10.11"
  }
 },
 "nbformat": 4,
 "nbformat_minor": 5
}
