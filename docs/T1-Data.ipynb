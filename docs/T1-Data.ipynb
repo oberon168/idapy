{
 "cells": [
  {
   "cell_type": "markdown",
   "id": "d8dbc04e-8ccd-419c-9327-aefb5f2122cc",
   "metadata": {},
   "source": [
    "> Start by importing required tools/libraries\n",
    ">\n",
    "> - *matplotlib* for graphic plots\n",
    "> - *pandas* for data reference with names"
   ]
  },
  {
   "cell_type": "code",
   "execution_count": 43,
   "id": "68046f1d-5236-440c-9fd9-a89e814ff661",
   "metadata": {},
   "outputs": [],
   "source": [
    "import matplotlib.pyplot as plt\n",
    "import pandas as pd\n",
    "import idapy as da"
   ]
  },
  {
   "cell_type": "markdown",
   "id": "d3a57660-b2f2-41cb-af39-4fe2c7350930",
   "metadata": {},
   "source": [
    "> To load data from *sklearn* dataset"
   ]
  },
  {
   "cell_type": "code",
   "execution_count": 44,
   "id": "b1783272-9c7d-4433-87e1-acdadc1e6dc7",
   "metadata": {},
   "outputs": [],
   "source": [
    "from sklearn import datasets\n",
    "#dir(datasets)"
   ]
  },
  {
   "cell_type": "markdown",
   "id": "26276020-df75-4f5f-b387-e19ed4a33b0d",
   "metadata": {},
   "source": [
    "> Print built-in description from dataset"
   ]
  },
  {
   "cell_type": "code",
   "execution_count": 45,
   "id": "5cab2cf4-ab35-4755-8285-676bf6f8e098",
   "metadata": {},
   "outputs": [],
   "source": [
    "#print(datasets.load_diabetes().DESCR)"
   ]
  },
  {
   "cell_type": "markdown",
   "id": "0e2984ab-a027-4689-93ac-ef7f99640414",
   "metadata": {},
   "source": [
    "> Convert dataset to dataframe with variable names"
   ]
  },
  {
   "cell_type": "code",
   "execution_count": 46,
   "id": "392e1a9b-6ea4-4d37-8234-62cd699dd12e",
   "metadata": {},
   "outputs": [
    {
     "name": "stdout",
     "output_type": "stream",
     "text": [
      "(442, 10)\n"
     ]
    },
    {
     "data": {
      "text/html": [
       "<div>\n",
       "<style scoped>\n",
       "    .dataframe tbody tr th:only-of-type {\n",
       "        vertical-align: middle;\n",
       "    }\n",
       "\n",
       "    .dataframe tbody tr th {\n",
       "        vertical-align: top;\n",
       "    }\n",
       "\n",
       "    .dataframe thead th {\n",
       "        text-align: right;\n",
       "    }\n",
       "</style>\n",
       "<table border=\"1\" class=\"dataframe\">\n",
       "  <thead>\n",
       "    <tr style=\"text-align: right;\">\n",
       "      <th></th>\n",
       "      <th>age</th>\n",
       "      <th>sex</th>\n",
       "      <th>bmi</th>\n",
       "      <th>bp</th>\n",
       "      <th>s1</th>\n",
       "      <th>s2</th>\n",
       "      <th>s3</th>\n",
       "      <th>s4</th>\n",
       "      <th>s5</th>\n",
       "      <th>s6</th>\n",
       "    </tr>\n",
       "  </thead>\n",
       "  <tbody>\n",
       "    <tr>\n",
       "      <th>0</th>\n",
       "      <td>0.038</td>\n",
       "      <td>0.051</td>\n",
       "      <td>0.062</td>\n",
       "      <td>0.022</td>\n",
       "      <td>-0.044</td>\n",
       "      <td>-0.035</td>\n",
       "      <td>-0.043</td>\n",
       "      <td>-0.003</td>\n",
       "      <td>0.020</td>\n",
       "      <td>-0.018</td>\n",
       "    </tr>\n",
       "    <tr>\n",
       "      <th>1</th>\n",
       "      <td>-0.002</td>\n",
       "      <td>-0.045</td>\n",
       "      <td>-0.051</td>\n",
       "      <td>-0.026</td>\n",
       "      <td>-0.008</td>\n",
       "      <td>-0.019</td>\n",
       "      <td>0.074</td>\n",
       "      <td>-0.039</td>\n",
       "      <td>-0.068</td>\n",
       "      <td>-0.092</td>\n",
       "    </tr>\n",
       "    <tr>\n",
       "      <th>2</th>\n",
       "      <td>0.085</td>\n",
       "      <td>0.051</td>\n",
       "      <td>0.044</td>\n",
       "      <td>-0.006</td>\n",
       "      <td>-0.046</td>\n",
       "      <td>-0.034</td>\n",
       "      <td>-0.032</td>\n",
       "      <td>-0.003</td>\n",
       "      <td>0.003</td>\n",
       "      <td>-0.026</td>\n",
       "    </tr>\n",
       "    <tr>\n",
       "      <th>3</th>\n",
       "      <td>-0.089</td>\n",
       "      <td>-0.045</td>\n",
       "      <td>-0.012</td>\n",
       "      <td>-0.037</td>\n",
       "      <td>0.012</td>\n",
       "      <td>0.025</td>\n",
       "      <td>-0.036</td>\n",
       "      <td>0.034</td>\n",
       "      <td>0.023</td>\n",
       "      <td>-0.009</td>\n",
       "    </tr>\n",
       "    <tr>\n",
       "      <th>4</th>\n",
       "      <td>0.005</td>\n",
       "      <td>-0.045</td>\n",
       "      <td>-0.036</td>\n",
       "      <td>0.022</td>\n",
       "      <td>0.004</td>\n",
       "      <td>0.016</td>\n",
       "      <td>0.008</td>\n",
       "      <td>-0.003</td>\n",
       "      <td>-0.032</td>\n",
       "      <td>-0.047</td>\n",
       "    </tr>\n",
       "    <tr>\n",
       "      <th>...</th>\n",
       "      <td>...</td>\n",
       "      <td>...</td>\n",
       "      <td>...</td>\n",
       "      <td>...</td>\n",
       "      <td>...</td>\n",
       "      <td>...</td>\n",
       "      <td>...</td>\n",
       "      <td>...</td>\n",
       "      <td>...</td>\n",
       "      <td>...</td>\n",
       "    </tr>\n",
       "    <tr>\n",
       "      <th>437</th>\n",
       "      <td>0.042</td>\n",
       "      <td>0.051</td>\n",
       "      <td>0.020</td>\n",
       "      <td>0.060</td>\n",
       "      <td>-0.006</td>\n",
       "      <td>-0.003</td>\n",
       "      <td>-0.029</td>\n",
       "      <td>-0.003</td>\n",
       "      <td>0.031</td>\n",
       "      <td>0.007</td>\n",
       "    </tr>\n",
       "    <tr>\n",
       "      <th>438</th>\n",
       "      <td>-0.006</td>\n",
       "      <td>0.051</td>\n",
       "      <td>-0.016</td>\n",
       "      <td>-0.068</td>\n",
       "      <td>0.049</td>\n",
       "      <td>0.079</td>\n",
       "      <td>-0.029</td>\n",
       "      <td>0.034</td>\n",
       "      <td>-0.018</td>\n",
       "      <td>0.044</td>\n",
       "    </tr>\n",
       "    <tr>\n",
       "      <th>439</th>\n",
       "      <td>0.042</td>\n",
       "      <td>0.051</td>\n",
       "      <td>-0.016</td>\n",
       "      <td>0.017</td>\n",
       "      <td>-0.037</td>\n",
       "      <td>-0.014</td>\n",
       "      <td>-0.025</td>\n",
       "      <td>-0.011</td>\n",
       "      <td>-0.047</td>\n",
       "      <td>0.015</td>\n",
       "    </tr>\n",
       "    <tr>\n",
       "      <th>440</th>\n",
       "      <td>-0.045</td>\n",
       "      <td>-0.045</td>\n",
       "      <td>0.039</td>\n",
       "      <td>0.001</td>\n",
       "      <td>0.016</td>\n",
       "      <td>0.015</td>\n",
       "      <td>-0.029</td>\n",
       "      <td>0.027</td>\n",
       "      <td>0.045</td>\n",
       "      <td>-0.026</td>\n",
       "    </tr>\n",
       "    <tr>\n",
       "      <th>441</th>\n",
       "      <td>-0.045</td>\n",
       "      <td>-0.045</td>\n",
       "      <td>-0.073</td>\n",
       "      <td>-0.081</td>\n",
       "      <td>0.084</td>\n",
       "      <td>0.028</td>\n",
       "      <td>0.174</td>\n",
       "      <td>-0.039</td>\n",
       "      <td>-0.004</td>\n",
       "      <td>0.003</td>\n",
       "    </tr>\n",
       "  </tbody>\n",
       "</table>\n",
       "<p>442 rows × 10 columns</p>\n",
       "</div>"
      ],
      "text/plain": [
       "       age    sex    bmi     bp     s1     s2     s3     s4     s5     s6\n",
       "0    0.038  0.051  0.062  0.022 -0.044 -0.035 -0.043 -0.003  0.020 -0.018\n",
       "1   -0.002 -0.045 -0.051 -0.026 -0.008 -0.019  0.074 -0.039 -0.068 -0.092\n",
       "2    0.085  0.051  0.044 -0.006 -0.046 -0.034 -0.032 -0.003  0.003 -0.026\n",
       "3   -0.089 -0.045 -0.012 -0.037  0.012  0.025 -0.036  0.034  0.023 -0.009\n",
       "4    0.005 -0.045 -0.036  0.022  0.004  0.016  0.008 -0.003 -0.032 -0.047\n",
       "..     ...    ...    ...    ...    ...    ...    ...    ...    ...    ...\n",
       "437  0.042  0.051  0.020  0.060 -0.006 -0.003 -0.029 -0.003  0.031  0.007\n",
       "438 -0.006  0.051 -0.016 -0.068  0.049  0.079 -0.029  0.034 -0.018  0.044\n",
       "439  0.042  0.051 -0.016  0.017 -0.037 -0.014 -0.025 -0.011 -0.047  0.015\n",
       "440 -0.045 -0.045  0.039  0.001  0.016  0.015 -0.029  0.027  0.045 -0.026\n",
       "441 -0.045 -0.045 -0.073 -0.081  0.084  0.028  0.174 -0.039 -0.004  0.003\n",
       "\n",
       "[442 rows x 10 columns]"
      ]
     },
     "execution_count": 46,
     "metadata": {},
     "output_type": "execute_result"
    }
   ],
   "source": [
    "\n",
    "test_data = pd.DataFrame(datasets.load_diabetes().data, columns=datasets.load_diabetes().feature_names)\n",
    "test_target = pd.DataFrame(datasets.load_diabetes().target,columns=['prog'])\n",
    "print(test_data.shape)\n",
    "test_data"
   ]
  },
  {
   "cell_type": "code",
   "execution_count": 47,
   "id": "c1d6a339-ee90-4e32-87b2-3d71ad82cef4",
   "metadata": {},
   "outputs": [
    {
     "ename": "AttributeError",
     "evalue": "module 'idapy' has no attribute 'describe'",
     "output_type": "error",
     "traceback": [
      "\u001b[1;31m---------------------------------------------------------------------------\u001b[0m",
      "\u001b[1;31mAttributeError\u001b[0m                            Traceback (most recent call last)",
      "Cell \u001b[1;32mIn[47], line 1\u001b[0m\n\u001b[1;32m----> 1\u001b[0m \u001b[43mda\u001b[49m\u001b[38;5;241;43m.\u001b[39;49m\u001b[43mdescribe\u001b[49m(test_data)\n",
      "\u001b[1;31mAttributeError\u001b[0m: module 'idapy' has no attribute 'describe'"
     ]
    }
   ],
   "source": [
    "da.describe(test_data)"
   ]
  },
  {
   "cell_type": "code",
   "execution_count": null,
   "id": "053f686a-17a1-4701-975d-83d6c14000e8",
   "metadata": {},
   "outputs": [],
   "source": []
  }
 ],
 "metadata": {
  "kernelspec": {
   "display_name": "Python 3 (ipykernel)",
   "language": "python",
   "name": "python3"
  },
  "language_info": {
   "codemirror_mode": {
    "name": "ipython",
    "version": 3
   },
   "file_extension": ".py",
   "mimetype": "text/x-python",
   "name": "python",
   "nbconvert_exporter": "python",
   "pygments_lexer": "ipython3",
   "version": "3.10.11"
  }
 },
 "nbformat": 4,
 "nbformat_minor": 5
}
