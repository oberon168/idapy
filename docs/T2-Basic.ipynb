{
 "cells": [
  {
   "cell_type": "markdown",
   "id": "ecfc7249-9836-40e2-a79e-865bf59da9ed",
   "metadata": {},
   "source": [
    "> Box plot of the data set (range and distribution)"
   ]
  },
  {
   "cell_type": "code",
   "execution_count": null,
   "id": "c32eee56-3db3-416a-8631-c509d614f999",
   "metadata": {},
   "outputs": [],
   "source": [
    "plt.boxplot(test_data,vert=False,tick_labels=test_data.columns)\n",
    "plt.show()"
   ]
  },
  {
   "cell_type": "markdown",
   "id": "9040e8af-c7e5-4f45-bfe5-242db0f101eb",
   "metadata": {},
   "source": [
    "> use scatter plot and historgram to learn about the distribution of each variable"
   ]
  },
  {
   "cell_type": "code",
   "execution_count": null,
   "id": "795189ce-e33c-41bf-9251-3042737b6a0c",
   "metadata": {},
   "outputs": [],
   "source": [
    "fig, (ax1, ax2) = plt.subplots(2, 1)\n",
    "xcol = test_data['bp']\n",
    "ycol = test_target['prog']\n",
    "ax1.scatter(xcol,ycol)\n",
    "ax1.set_title(ycol.name + ' vs ' + xcol.name)\n",
    "ax2.hist(xcol)\n",
    "plt.show()"
   ]
  },
  {
   "cell_type": "code",
   "execution_count": null,
   "id": "e7a4ad96-3d68-42a2-839c-229c0a2fd176",
   "metadata": {},
   "outputs": [],
   "source": [
    "\n",
    "da.desc(test_data)"
   ]
  }
 ],
 "metadata": {
  "kernelspec": {
   "display_name": "Python 3 (ipykernel)",
   "language": "python",
   "name": "python3"
  },
  "language_info": {
   "codemirror_mode": {
    "name": "ipython",
    "version": 3
   },
   "file_extension": ".py",
   "mimetype": "text/x-python",
   "name": "python",
   "nbconvert_exporter": "python",
   "pygments_lexer": "ipython3",
   "version": "3.10.11"
  }
 },
 "nbformat": 4,
 "nbformat_minor": 5
}
