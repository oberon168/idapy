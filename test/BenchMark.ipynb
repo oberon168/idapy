{
 "cells": [
  {
   "cell_type": "code",
   "execution_count": 4,
   "id": "ed44ccf0-ba96-479c-8141-8254176b4827",
   "metadata": {},
   "outputs": [
    {
     "name": "stdout",
     "output_type": "stream",
     "text": [
      "CUPY GPUs 1\n",
      "CUPY 0.0\n",
      "PyCUDA GPUs 1\n",
      "PyCuda 0.00304412841796875\n",
      "Numpy 0.0\n",
      "Numba 0.2577366828918457\n"
     ]
    }
   ],
   "source": [
    "import time\n",
    "import cupy as cp\n",
    "import pycuda.driver as cuda\n",
    "import pycuda.autoinit\n",
    "from pycuda.compiler import SourceModule\n",
    "import numpy as np\n",
    "from numba import jit\n",
    "\n",
    "num_gpus = cp.cuda.runtime.getDeviceCount()\n",
    "print('CUPY GPUs', num_gpus)\n",
    "\n",
    "start = time.time()\n",
    "# Create two random arrays on the GPU\n",
    "a = cp.random.rand(10, 10)\n",
    "b = cp.random.rand(10, 10)\n",
    "# Perform element-wise multiplication\n",
    "c = a * b\n",
    "# Transfer the result back to the host (CPU)\n",
    "c_host = cp.asnumpy(c)\n",
    "end = time.time()\n",
    "print('CUPY', end-start)\n",
    "\n",
    "print(\"PyCUDA GPUs\", cuda.Device.count())\n",
    "start = time.time()\n",
    "# Create a random array on the host (CPU)\n",
    "a = np.random.randn(10, 10)\n",
    "# Allocate memory on the GPU\n",
    "a_gpu = cuda.mem_alloc(a.nbytes)\n",
    "# Transfer the data to the GPU\n",
    "cuda.memcpy_htod(a_gpu, a)\n",
    "# Define a simple CUDA kernel\n",
    "mod = SourceModule(\"\"\"\n",
    "__global__ void doublify(float *a) {\n",
    "    int idx = threadIdx.x + threadIdx.y * 4;\n",
    "    a[idx] *= 2;\n",
    "}\n",
    "\"\"\")\n",
    "# Get the kernel function\n",
    "func = mod.get_function(\"doublify\")\n",
    "# Execute the kernel\n",
    "func(a_gpu, block=(10, 10, 1))\n",
    "# Transfer the result back to the host (CPU)\n",
    "a_doubled = np.empty_like(a)\n",
    "cuda.memcpy_dtoh(a_doubled, a_gpu)\n",
    "end = time.time()\n",
    "print('PyCuda', end-start)\n",
    "\n",
    "start = time.time()\n",
    "# Create two random arrays on the GPU\n",
    "a = np.random.rand(10, 10)\n",
    "b = np.random.rand(10, 10)\n",
    "# Perform element-wise multiplication\n",
    "c = a * b\n",
    "# Transfer the result back to the host (CPU)\n",
    "end = time.time()\n",
    "print('Numpy', end-start)\n",
    "\n",
    "@jit(nopython=True)\n",
    "def mult():\n",
    "    a = np.random.rand(10, 10)\n",
    "    b = np.random.rand(10, 10)\n",
    "    c = a * b\n",
    "    return c\n",
    "    \n",
    "start = time.time()\n",
    "mult()\n",
    "end = time.time()\n",
    "print('Numba', end-start)"
   ]
  },
  {
   "cell_type": "code",
   "execution_count": null,
   "id": "343d04e5-f1b0-4e68-918e-6c2c958be36c",
   "metadata": {},
   "outputs": [],
   "source": []
  }
 ],
 "metadata": {
  "kernelspec": {
   "display_name": "Python 3 (ipykernel)",
   "language": "python",
   "name": "python3"
  },
  "language_info": {
   "codemirror_mode": {
    "name": "ipython",
    "version": 3
   },
   "file_extension": ".py",
   "mimetype": "text/x-python",
   "name": "python",
   "nbconvert_exporter": "python",
   "pygments_lexer": "ipython3",
   "version": "3.10.11"
  }
 },
 "nbformat": 4,
 "nbformat_minor": 5
}
